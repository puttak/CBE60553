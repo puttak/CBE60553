{
 "cells": [
  {
   "cell_type": "markdown",
   "metadata": {},
   "source": [
    "# CBE 60553, Fall 2017, Homework 1"
   ]
  },
  {
   "cell_type": "markdown",
   "metadata": {},
   "source": [
    "## Problem 1: Choose your path wisely"
   ]
  },
  {
   "cell_type": "markdown",
   "metadata": {},
   "source": [
    "A particular system has the equation of state $U = \\frac{5}{2} PV + C$, where $C$ is an undetermined constant."
   ]
  },
  {
   "cell_type": "markdown",
   "metadata": {},
   "source": [
    "<img src=\"Figure1-annotated.png\">"
   ]
  },
  {
   "cell_type": "markdown",
   "metadata": {},
   "source": [
    "### 1. The system starts at state $A$, in which $P={0.2}\\ {MPa}$ and $V = {0.01}\\ {m^{3}}$. It is taken quasistatically along the path shown in the figure ($A \\rightarrow B$, $B \\rightarrow C$, $C \\rightarrow A$ ).  Calculate the heat transferred from the surroundings, $q$, and the work done on the system, $w$, for each step along the path."
   ]
  },
  {
   "cell_type": "markdown",
   "metadata": {},
   "source": [
    "### 2. Calculate $q$ and $w$ for a quasistatic process starting at $A$ and ending at $B$ along the path $P=a + b(V-c)^{2}$, where $a = {0.1}\\ {MPa}$, $b= 1 \\times 10^{3}\\ {MPa \\cdot m^{-6}}$, and $c = {0.02}\\ {m^{3}}$."
   ]
  },
  {
   "cell_type": "markdown",
   "metadata": {},
   "source": [
    "### 3. The system exchanges both heat and work with its surroundings along the paths above. An /adiabat/ is a particular quasistatic path along which work is done but no heat is transferred.  Find the form of the adiabats $P=P(V)$ for the system described by $U = \\frac{5}{2} PV +C$.  (Hint: If $\\bar{d}q_\\text{qs} = 0$, then $dU = \\bar{d} w_\\text{qs} = -PdV$.  What else does $dU$ equal?)"
   ]
  },
  {
   "cell_type": "markdown",
   "metadata": {},
   "source": [
    "## Problem 2: Is it fundamental enough?"
   ]
  },
  {
   "cell_type": "markdown",
   "metadata": {},
   "source": [
    "The following ten equations are purported to be fundamental equations for\n",
    "various thermodynamic systems.  Six, however, are inconsisent with the basic\n",
    "  postulates of a fundamental equation and are thus unphysical.  For each, plot\n",
    "  the relationship between $S$ and $U$ and identify the six that are\n",
    "  unacceptable. $v_0$, $\\theta$, and $R$ are all positive constants and, in the\n",
    "  case of fractional exponents, the real positive root is to be implied."
   ]
  },
  {
   "cell_type": "markdown",
   "metadata": {},
   "source": [
    "$ (1)\\ S = \\left ( \\frac{R^2}{v_0\\theta} \\right )^{1/3}\\left ( NVU \\right\n",
    ")^{1/3}\\hspace{20pt}\n",
    "(2)\\ S = \\left ( \\frac{R}{\\theta^2} \\right )^{1/3}\\left ( \\frac{NU}{V} \\right)^{2/3} $\n",
    "\n",
    "$ (3)\\ S = \\left ( \\frac{R}{\\theta} \\right )^{1/2}\\left ( NU + \\frac{R\\theta V^2}{v_0^2} \\right)^{1/2}\\hspace{20pt}\n",
    "(4)\\ S = \\left ( \\frac{R^2\\theta}{v_0^3} \\right ) \\frac{V^3}{NU} $\n",
    "\n",
    "$ (5)\\ S = \\left ( \\frac{R^3}{v_0\\theta^2} \\right )^{1/5}\\left ( N^2U^2V \\right)^{1/5}\\hspace{20pt}\n",
    "(6)\\ S = NR \\ln \\left ( \\frac{UV}{N^2 R \\theta v_0}  \\right ) $\n",
    "\n",
    "$ (7)\\ S = \\left ( \\frac{NRU}{\\theta} \\right )^{1/2}\\exp \\left (-\\frac{V^2}{2N^2v_0^2} \\right )\\hspace{20pt}\n",
    "(8)\\ S = \\left ( \\frac{NRU}{\\theta} \\right )^{1/2}\\exp\n",
    "\\left (-\\frac{UV}{NR\\theta v_0} \\right ) $\n",
    "\n",
    "$ (9)\\ U = \\left ( \\frac{NR\\theta V}{v_0} \\right ) \\left ( 1+\\frac{S}{NR} \\right ) \\exp \\left (-S/NR \\right)\\hspace{20pt}\n",
    "(10)\\ U = \\left ( \\frac{v_0\\theta}{R} \\right ) \\frac{S^2}{V} \\exp\\left ( S/NR \\right) $\n"
   ]
  },
  {
   "cell_type": "markdown",
   "metadata": {},
   "source": [
    "## Problem 3: Find your equilibrium"
   ]
  },
  {
   "cell_type": "markdown",
   "metadata": {},
   "source": [
    "The fundamental equations of both systems $A$ and $B$ are \n",
    "\n",
    "$$ S = \\left (\n",
    "\\frac{R^2}{v_0\\theta} \\right )^{1/3} \\left ( N V U \\right )^{1/3} $$\n",
    "\n",
    "The volume and mole number of system $A$ are $ 9 \\times 10^{-6}\\ m^3 $ and $3$ mol, respectively, and of system $B$ are $ 4 \\times 10^{-6}\\ m^3 $ and $2$ mol,\n",
    "respectively.  First suppose $A$ and $B$ are completely isolated from one\n",
    "another.  Plot the total entropy $S_A + S_B$ as function of $U_A/(U_A + U_B)$,\n",
    "where $U_A + U_B = 80$ J. If $A$ and $B$ were connected by a diathermal wall and\n",
    "the pair allowed to come to equilibrium, what would $U_A$ and $U_B$ be?"
   ]
  },
  {
   "cell_type": "markdown",
   "metadata": {},
   "source": [
    "## Problem 4: Exactly right"
   ]
  },
  {
   "cell_type": "markdown",
   "metadata": {},
   "source": [
    "The Helmholtz energy $A$ is a thermodynamic state function.  Show that\n",
    "\n",
    "$ \\left (\\frac{\\partial A}{\\partial V}\\right )_T = - P $  and  $ \\left(\\frac{\\partial A}{\\partial T}\\right )_V = - S\\ $\n",
    "implies $ \\left (\\frac{\\partial S}{\\partial V}\\right )_T = \\left\n",
    "  (\\frac{\\partial P}{\\partial T}\\right )_V $\n",
    "  "
   ]
  },
  {
   "cell_type": "markdown",
   "metadata": {},
   "source": [
    "## Problem 5: A difference of degree"
   ]
  },
  {
   "cell_type": "markdown",
   "metadata": {},
   "source": [
    "Determine whether the following five expressions are homogeneous and, if so, what their degree of homogeneity is:\n",
    "\n",
    "$ (1)\\ u=x^2y + xy^2 +3xyz $\n",
    "\n",
    "$ (2)\\ u=\\sqrt{x+y} $\n",
    "\n",
    "$ (3)\\ u=\\frac{x^3+x^2y+y^3}{x^2+xy+y^2} $\n",
    "\n",
    "$ (4)\\ u=e^{-y/x} $\n",
    "\n",
    "$ (5)\\ u=\\frac{x^2+3xy+2y^3}{y^2} $"
   ]
  }
 ],
 "metadata": {
  "anaconda-cloud": {},
  "celltoolbar": "Raw Cell Format",
  "kernelspec": {
   "display_name": "Python [conda root]",
   "language": "python",
   "name": "conda-root-py"
  },
  "language_info": {
   "codemirror_mode": {
    "name": "ipython",
    "version": 2
   },
   "file_extension": ".py",
   "mimetype": "text/x-python",
   "name": "python",
   "nbconvert_exporter": "python",
   "pygments_lexer": "ipython2",
   "version": "2.7.12"
  }
 },
 "nbformat": 4,
 "nbformat_minor": 1
}
