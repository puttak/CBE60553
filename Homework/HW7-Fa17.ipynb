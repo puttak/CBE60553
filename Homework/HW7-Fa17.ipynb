{
 "cells": [
  {
   "cell_type": "markdown",
   "metadata": {},
   "source": [
    "# CBE 60553, Fall 2017, Homework 7"
   ]
  },
  {
   "cell_type": "markdown",
   "metadata": {},
   "source": [
    "Solve each problem on separate sheets of paper, and clearly indicate the problem number and your name on each. Carefully and neatly document your answers. You may use a mathematical solver like Python. Use plotting software for all plots."
   ]
  },
  {
   "cell_type": "markdown",
   "metadata": {},
   "source": [
    "## 1. It’s all a balance"
   ]
  },
  {
   "cell_type": "markdown",
   "metadata": {},
   "source": [
    "The van der Waals equation of state captures the balance between molecular attractions and repulsions that characterize a real fluid. The Helmholtz free energy of a monatomic van der Waals fluid can be written \n",
    "\n",
    "\\begin{equation*} a_\\text{vdW} = \\left \\{ - RT ln (v-b) -1.5 R T ln (R T) \\right\\} +\\left \\{ RT -a/v \\right \\} \\end{equation*} \n",
    "\n",
    "where the terms in the first bracket correspond to the entropic repulsive forces and the terms in the second bracket the energetic attractions.\n",
    "\n",
    "1. Plot the repulsive, attractive, and total Helmholtz energies of $\\text{CO}_2$ at $280 \\text{ K}$ vs. log molar volume from $0.04$ to $\\text{1 L mol}^{-1}$. The $\\text{CO}_2$ van der Waals constants are $a = 3.6551 \\text{ L}^2 \\text{ bar mol}^{-2}$ and $b = 0.042816 \\text{ L mol}^{-1}$.\n",
    "2. Plot the compressibility of van der Waals $\\text{CO}_{2}$ vs. reduced pressure $P_r$ of $0.1 < P_r < 10$ at $T_r =1.05$. The critical temperature of $\\text{CO}_{2}$ is $T_c = 304.2{ K}$ and critical pressure $P_c = 7.376 \\times 10^{6} \\text{ Pa}$. Hint: You will have to solve a cubic numerically. Consider which of the three roots is the relevant one.\n",
    "3. The compressibility of an ideal gas is $Z_\\text{ig}=1$. Explain in terms of microscopic interactions why $Z$ is greater or less than 1 for the various values of $P_r$ in your Question 2 plot."
   ]
  },
  {
   "cell_type": "markdown",
   "metadata": {},
   "source": [
    "## 2. We had to talk about it at some point"
   ]
  },
  {
   "cell_type": "markdown",
   "metadata": {},
   "source": [
    "The fugacity $f(T,P)$ of a gas is defined as the function that satisfies\n",
    "\n",
    "$$ \\mu(T,P) = \\mu^\\circ(T) + RT \\ln \\left ( f(T,P)/ P^\\circ) \\right ) $$\n",
    "\n",
    "where $\\mu^{\\circ}(T)$ is the chemical potential of the fluid in an ideal gas reference\n",
    "state at reference pressure $P^{\\circ}$. The fugacity has units of pressure.\n",
    "\n",
    "1. What is the $ \\lim_{P\\rightarrow 0} \\mu(T,P)$? $\\quad$  $\\textit{Hint}$: Remember that all gas are ideal in\n",
    "   the limit of zero pressure or infinite volume.\n",
    "\n",
    "2. What is the $\\lim_{P\\rightarrow 0} f(T,P)$?  Why is fugacity a useful concept?\n",
    "\n",
    "3. Derive a relationship between the residual volume, $v_{res} = v - v_{ig}$, and\n",
    "   compressibility \\(Z\\).\n",
    "\n",
    "4. Derive the following relationship between fugacity and compressibility.  Use the Gibbs-Duhem relationship between $d\\mu$ and the other intensive variables.\n",
    "\n",
    "   \\begin{equation}\n",
    "     \\left ( \\frac{\\partial\\ln\\left(f/P\\right)}{\\partial P} \\right )_{T} = \\frac{v}{RT} \\left ( \\frac{Z-1}{Z} \\right )\n",
    "   \\end{equation} <br>\n",
    "\n",
    "5. Because equations of state are usually rational functions in $v$, it is generally\n",
    "   easier to compute $f(T,v)$ than $f(T,p)$ Use the chain rule to relate the derivative\n",
    "   above to a derivative in $v$. Evaluate the expression you get assuming the fluid\n",
    "   follows a one-parameter virial equation of state.\n",
    "\n",
    "6. Now compute $\\ln (f/P)$ for the one-parameter virial equation of state by integrating\n",
    "   from the ideal gas limit ($v \\rightarrow \\infty$ to $v$).  Recall that $f\\rightarrow P$\n",
    "   in the ideal gas limit.\n",
    "\n",
    "7. This ratio $f/P$ is called the fugacity coefficient, $\\phi$. When $\\phi > 1$, the\n",
    "   chemical potential is greater than that of an ideal gas at the same density and\n",
    "   temperature, and vice versa when $\\phi < 1$.  Recall we learned that the second virial\n",
    "   coefficient $B > 0$ at high temperatures, where entropy effects dominate, and $B < 0$\n",
    "   at low temperatures, where the energetic interactions between molecules dominate.  How\n",
    "   does the virial EOS chemical potential compare to the ideal gas chemical potential at high\n",
    "   temperature? At low temperature?  Why?\n",
    "\n",
    "8. One can do similar calculations for more complex equations of state. Be thankful I\n",
    "   didn't ask you to. They are a mess. If you need the results, look them up.\n"
   ]
  },
  {
   "cell_type": "markdown",
   "metadata": {},
   "source": [
    "## 3. Separating an ideal mixture"
   ]
  },
  {
   "cell_type": "markdown",
   "metadata": {},
   "source": [
    "The exhaust from a coal-fired power plant contains approximately $12 \\text{ % CO}_2$ in a\n",
    "  mixture of other gases, all at $40^{\\circ}\\text{C}$ and $1 \\text{ atm}$.\n",
    "\n",
    "1. What is the minimum work, in $kJ/kg$ $\\text{ CO}_2$, to separate the $\\text{CO}_2$ from the\n",
    "  remaining gases at constant $T$ and $P$, assuming the gas mixture is ideal?\n",
    "\n",
    "2. What is the minimum work of separation if the mixture is non-ideal and obeys the\n",
    "  Lewis-Randall mixing rules, $\\hat{f}_i^{\\text{mix}} = y_i f_i$?\n",
    "\n",
    "$$\n",
    "W_{min} = -\\Delta G_{mix} = (N_A \\mu_A(y_A,T) + N_B \\mu_B(y_B,T)) - N_A \\mu_A(T) - N_B \\mu_B(T)\n",
    "$$"
   ]
  },
  {
   "cell_type": "markdown",
   "metadata": {},
   "source": [
    "## 4. And fugacity makes a come-back"
   ]
  },
  {
   "cell_type": "markdown",
   "metadata": {},
   "source": [
    "The virial equation of state can be recast in terms of pressures as \\begin{equation*} Z(T,P) = 1 + \\frac{P}{RT} B_2(T) + \\left (\\frac{P}{RT} \\right )^2 \\left ( C(T)-B(T)^2 \\right ) + \\ldots \\end{equation*} where $B$ and $C$ are the second and third virial coefficients, respectively. This form becomes particularly easy to work with when we truncated at the linear term in $P$. For a mixture, it can further be shown that\n",
    "\n",
    "\\begin{equation*} B_\\text{mix} = ∑_i∑_j y_iy_j B_{ij} \\qquad B_{ij} = \\sqrt{B_iB_j} \\end{equation*}\n",
    "\n",
    "1. Derive an expression for the partial molar volume $\\bar v_i$ of a component in a mixture using the truncated virial equation of state.\n",
    "\n",
    "2. The component fugacity $\\hat{f}_{i}(T,P)$ and the corresponding fugacity coefficient $\\hat{f}_i/y_i\n",
    "   P = \\phi_i(T,P)$ can be defined in analogy to the expression for the pure component system.\n",
    "   Use this definition to derive an expression for $\\ln \\phi_i$ for the virial\n",
    "   mixture, integrating as appropriate from the ideal gas limit to $P$.\n",
    "   \\begin{equation}\n",
    "     \\left ( \\frac{\\partial\\ln\\left(\\hat{f}_{i}/y_{i}P\\right)}{\\partial P} \\right )_{T} = \\frac{\\bar{v}_{i} - \\bar{v}_{ig}}{RT}\n",
    "   \\end{equation}<br>\n",
    "\n",
    "3. (4 pts) The second virial coefficients of $\\text{CO}_2$ and air are $-110.7$ and $-3 \\text{ cm}^3 \\text{ mol}^{-1}$ at $ 40^{\\circ} \\text{C}$. What is the minimum work of separation of $ 12 \\text{% CO}_{2}$ from air approximating the mixture with the virial equation of state?"
   ]
  }
 ],
 "metadata": {
  "anaconda-cloud": {},
  "celltoolbar": "Raw Cell Format",
  "kernelspec": {
   "display_name": "Python [conda root]",
   "language": "python",
   "name": "conda-root-py"
  },
  "language_info": {
   "codemirror_mode": {
    "name": "ipython",
    "version": 2
   },
   "file_extension": ".py",
   "mimetype": "text/x-python",
   "name": "python",
   "nbconvert_exporter": "python",
   "pygments_lexer": "ipython2",
   "version": "2.7.12"
  }
 },
 "nbformat": 4,
 "nbformat_minor": 1
}
