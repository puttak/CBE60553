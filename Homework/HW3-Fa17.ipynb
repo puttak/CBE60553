{
 "cells": [
  {
   "cell_type": "markdown",
   "metadata": {},
   "source": [
    "# CBE 60553, Fall 2017, Homework 3"
   ]
  },
  {
   "cell_type": "markdown",
   "metadata": {},
   "source": [
    "Solve each problem on separate sheets of paper, and clearly indicate the problem number and your name on each. Carefully and neatly document your answers. You may use a mathematical solver like Python. Use plotting software for all plots."
   ]
  },
  {
   "cell_type": "markdown",
   "metadata": {},
   "source": [
    "## Concepts"
   ]
  },
  {
   "cell_type": "markdown",
   "metadata": {},
   "source": [
    "1. Maximum work\n",
    "2. Mixture fundamental eq\n",
    "3. van der Waals fundamental eq"
   ]
  },
  {
   "cell_type": "markdown",
   "metadata": {},
   "source": [
    "## 1. Shut that door!"
   ]
  },
  {
   "cell_type": "markdown",
   "metadata": {},
   "source": [
    "A household refrigerator is kept at $2^{\\circ} \\text{C}$. Every time the door is open to put something inside, 200 kJ of heat are added to the refrigerator and the temperature inside changes negligibly. The door is opened 15 times a day, and the refrigerator operates at 15% of theoretical maximum efficiency. The cost of electricity is $0.10/kW h.\n",
    "\n",
    "1. Derive an expression for the theoretical maximum efficiency of the refrigerator.\n",
    "2. How much does it cost to run the refrigerator for a month?"
   ]
  },
  {
   "cell_type": "markdown",
   "metadata": {},
   "source": [
    "## 2. Gotta keep them separated"
   ]
  },
  {
   "cell_type": "markdown",
   "metadata": {},
   "source": [
    "A geothermal source is to be used to power a plant that separates oxygen from air. The geothermal source comprises a well containing $10^3~\\text{m}^3$ of water initially at $100^{\\circ}\\text{C}$; nearby there is a very big ($>> 10^3~\\text{m}^3$ ) lake at $5^{\\circ}\\text{C}$.\n",
    "\n",
    "1. What is the theoretical maximum amount of work that could be extracted from the power source? Assume the heat capacity of $\\text{H}_{2}\\text{O}$ is $4.2~\\text{J}~\\text{(g K)}^{-1}$, independent of temperature. \n",
    "\n",
    "Suppose you’d like to use the work from the geothermal source to extract oxygen from air. The atmosphere is a comfy $20^{\\circ}\\text{C}$ and can be treated as an ideal gas mixture of 80% $\\text{N}_2$ and 20% $\\text{O}_2$ at 1 atm. The fundamental equation of an ideal gas mixture is like that of an ideal gas, with the addition of terms related to the mixture composition. It’s convenient to write the composition in terms of mole fraction, $y_{j} = N_{j}/N$, where $N = ∑_{j} N_{j}$. The fundamental equation can be written \n",
    "\n",
    "\\begin{equation}\n",
    "S(T,P,N_{1},N_{2},\\ldots) = c R ln\\left ( \\frac{T}{T_{0}} \\right ) - R ln\\left ( \\frac{P}{P_{0}} \\right ) - R ∑_{j} y_{j} ln y_{j} + ∑_{j}y_{j}s_{0,j} \n",
    "\\end{equation}\n",
    "\n",
    "where $P = NRT/V$ and $U=cNRT$. <p>\n",
    "<ol start=\"2\">\n",
    "<li>What is an appropriate value for $\\textit{c}$? </li>\n",
    "\n",
    "<li>What is the maximum number of moles of $\\text{O}_2$ that could be produced from the geothermal source? Assume the separation is carried out at constant temperature and pressure.</li>\n",
    "\n",
    "<li>Propose some plausible way that the separation could be carried out.</li>"
   ]
  },
  {
   "cell_type": "markdown",
   "metadata": {},
   "source": [
    "## 3. Fundamentally van der Waals"
   ]
  },
  {
   "cell_type": "markdown",
   "metadata": {},
   "source": [
    "The fundamental equation of a “van der Waals” fluid is: \n",
    "\\begin{equation} \n",
    "s_\\text{vdW}(u,v)=s_{0}+Rln\\left (v-b\\right ) +c R ln \\left ( u+a/v \\right ) \n",
    "\\end{equation}\n",
    "\n",
    "1. Derive the equations of state of a van der Waals fluid.\n",
    "2. Look up the critical constants and (constant volume) heat capacity of \\ce{CO2}. Use those to determine appropriate values for \\(a\\), \\(b\\), and \\(c\\) of van der Waals \\ce{CO2}. Remember to include appropriate units.\n",
    "3. Plot on the same graph the \\(P-v\\) adiabats and isotherms of van der Waals $\\text{CO}_{2}$. You will see in the extended course notes some python code that might help.\n",
    "4. Suppose you have a gas with a heat capacity appropriate to $\\text{CO}_{2}$ at 350 K and 50 bar. Compute the work required and the final state (temperature, pressure, and molar volume) to\n",
    "\n",
    "    i. Isothermally compress to 200 bar, assuming the gas is ideal.\n",
    "    \n",
    "    ii. Adiabatically compress to 200 bar, assuming the gas is ideal.\n",
    "    \n",
    "    iii. Isothermally compress to 200 bar, assuming the gas is a van der Waals fluid.\n",
    "    \n",
    "    iv. Adiabatically compress to 200 bar, assuming the gas is a van der Waals fluid."
   ]
  },
  {
   "cell_type": "markdown",
   "metadata": {},
   "source": [
    "## 4. I’m (Legendre) transformed"
   ]
  },
  {
   "cell_type": "markdown",
   "metadata": {},
   "source": [
    "Consider the exponential function $y=2 e^{x/2}$.\n",
    "\n",
    "1. Construct the Legendre transform of $y$. Let’s call it $\\phi(m) = y - m x$, where $m = dy/dx$.\n",
    "2. Use software to plot the series of lines defined by $\\phi(m)$. Recall that $\\phi(m)$ is the intercept of a line of slope $m$. What function does the series of lines trace out?\n",
    "3. A Legendre transform can be undone by performing an “inverse” transform. The inverse Legendre transform is constructed in the same way as the transform itself, $\\textit{except}$ that $m=-dy/dx$. Perform an inverse Legendre transform on $\\phi(m)$"
   ]
  },
  {
   "cell_type": "code",
   "execution_count": null,
   "metadata": {
    "collapsed": true
   },
   "outputs": [],
   "source": []
  }
 ],
 "metadata": {
  "anaconda-cloud": {},
  "celltoolbar": "Raw Cell Format",
  "kernelspec": {
   "display_name": "Python [conda root]",
   "language": "python",
   "name": "conda-root-py"
  },
  "language_info": {
   "codemirror_mode": {
    "name": "ipython",
    "version": 2
   },
   "file_extension": ".py",
   "mimetype": "text/x-python",
   "name": "python",
   "nbconvert_exporter": "python",
   "pygments_lexer": "ipython2",
   "version": "2.7.12"
  }
 },
 "nbformat": 4,
 "nbformat_minor": 1
}
