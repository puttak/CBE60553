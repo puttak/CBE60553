{
 "cells": [
  {
   "cell_type": "markdown",
   "metadata": {
    "collapsed": true
   },
   "source": [
    "# Introduction to Python\n",
    "\n",
    "### A Tutorial by Jacob Gerace\n",
    "\n",
    "### Why Python?\n",
    "\n",
    "1. Clean syntax\n",
    "2. The same code can run on all Operating Systems\n",
    "3. **Extensive first and third party libraries (of particular note for our purposes is NumPy)**\n",
    "\n",
    "### Markdown Sidenote\n",
    " * This text is written in a Markdown block. Markdown is straightforward way to format writeups in Jupyter, but I won't cover it here for the sake of brevity. \n",
    " * See if you can use Markdown in your next homework, here's a link that explains the formatting: https://daringfireball.net/projects/markdown/syntax . \n",
    " * You can also look at existing Markdown examples (i.e. this worksheet) and emulate the style. Double click a Markdown box in Jupyter to show the code.\n",
    " \n",
    "### LaTeX Sidenote\n",
    "* LaTeX (pronounced \"La-tech\") is a language itself used widely to write documents with symbolic math\n",
    "* When you add a mathematical formula to these markdown blocks, the math is in LaTeX.\n",
    "* Ex from class: $$V \\frac{dC}{dt} = u(t) - Q C(t)$$ \n",
    "* A good resource: https://en.wikibooks.org/wiki/LaTeX/Mathematics\n",
    " \n",
    " \n",
    "### What I hope you'll get out of this tutorial:\n",
    "* The feeling that you'll \"know where to start\" when you see python code in lecture, or when you need to write python for an assignment.\n",
    "* (You won't be a python expert after one hour)\n",
    "* Basics to variables, lists, conditionals, functions, loops, and the numpy package.\n",
    "* Resources to look further"
   ]
  },
  {
   "cell_type": "markdown",
   "metadata": {
    "collapsed": true
   },
   "source": [
    "## Python Basics\n",
    "### Variable Basics"
   ]
  },
  {
   "cell_type": "code",
   "execution_count": null,
   "metadata": {
    "collapsed": false
   },
   "outputs": [],
   "source": [
    "#A variable stores a piece of data and gives it a name\n",
    "#syntax of the form:\n",
    "#variable_name = variable_value\n",
    "#What are some types of variables you will need to use?\n",
    "\n",
    "\n"
   ]
  },
  {
   "cell_type": "markdown",
   "metadata": {},
   "source": [
    "### More Complicated Data Types\n"
   ]
  },
  {
   "cell_type": "code",
   "execution_count": null,
   "metadata": {
    "collapsed": true
   },
   "outputs": [],
   "source": [
    "#Lists\n",
    "#Defining a list and printing is very simple:\n",
    "prices = [10, 20, 30, 40, 50]\n",
    "print(prices)\n",
    "\n"
   ]
  },
  {
   "cell_type": "markdown",
   "metadata": {},
   "source": [
    "### Basic Things to do with Variables. Especially Floats."
   ]
  },
  {
   "cell_type": "code",
   "execution_count": null,
   "metadata": {
    "collapsed": false
   },
   "outputs": [],
   "source": [
    "float1 = 5.75\n",
    "float2 = 2.25\n",
    "#Addition, subtraction, multiplication, division are as you expect\n",
    "\n",
    "print(float1 + float2)\n",
    "print(float1 - float2)\n",
    "print(float1 * float2)\n",
    "print(float1 / float2)\n",
    "\n",
    "#Here's an interesting one that showed up in your first homework. What does this do?\n",
    "result = 5 % 2\n",
    "\n",
    "#What are some other math functions you would like to do with floats?"
   ]
  },
  {
   "cell_type": "markdown",
   "metadata": {},
   "source": [
    "### Conditionals in Python"
   ]
  },
  {
   "cell_type": "code",
   "execution_count": null,
   "metadata": {
    "collapsed": false,
    "scrolled": true
   },
   "outputs": [],
   "source": [
    "#Sometimes you want to execute code only in certain circumstances. We saw this on HW1.\n",
    "#The basic syntax is:\n",
    "#if boolean_statement_1:\n",
    "#    _code to do if 1 is true_\n",
    "#elif boolean_statement_2:\n",
    "#    _code to do if 2 is true_\n",
    "#else:\n",
    "#    _code to do in all other cases_\n",
    "\n",
    "#A boolean statement is something that can be True or False. Named after mathematician George boole. (5 < 3) is an\n",
    "#example, and in this case evaluates to False.\n",
    "\n",
    "#The tabs are mandatory. Let's do some more examples"
   ]
  },
  {
   "cell_type": "markdown",
   "metadata": {},
   "source": [
    "### Functions in Python"
   ]
  },
  {
   "cell_type": "code",
   "execution_count": null,
   "metadata": {
    "collapsed": false
   },
   "outputs": [],
   "source": [
    "#We can separate off code into functions, that can take input and can give output. They serve as black boxes from the \n",
    "#perspective of the rest of our code\n",
    "\n",
    "#use the def keyword, and indent because this creates a new block\n",
    "def print_me( str ):\n",
    "    print(str)\n",
    "   \n",
    "    #End with the \"return\" keyword\n",
    "    return\n",
    "\n",
    "#What if we want to compute something and return the result? How would you write that return statement?\n"
   ]
  },
  {
   "cell_type": "markdown",
   "metadata": {},
   "source": [
    "### Loops in Python"
   ]
  },
  {
   "cell_type": "code",
   "execution_count": null,
   "metadata": {
    "collapsed": false
   },
   "outputs": [],
   "source": [
    "#Repeat code until a conditional statement (or boolean expression, same thing!) ends the loop\n",
    "\n",
    "#Let's try printing a list\n",
    "fib = [1, 1, 2, 3, 5, 8]\n",
    "\n",
    "#Most of your loops can be written in the following way. Before we get to this, we'll go over two less neat ways to write \n",
    "#the same thing\n",
    "for e in fib:\n",
    "    print(e)"
   ]
  },
  {
   "cell_type": "markdown",
   "metadata": {
    "collapsed": true
   },
   "source": [
    "### Numpy - \"The Fundamental Package for Scientific Computing with Python\""
   ]
  },
  {
   "cell_type": "code",
   "execution_count": null,
   "metadata": {
    "collapsed": false
   },
   "outputs": [],
   "source": [
    "import numpy as np\n",
    "#Here, we grab all of the functions and tools from the numpy package and store them in a local variable called np.\n",
    "#You can call that variable whatever you like, but 'np' is standard.\n",
    "\n",
    "#numpy has arrays, which function similarly to python lists. \n",
    "a = np.array([1,2,3])\n",
    "b = np.array([9,8,7])\n",
    "#Be careful with syntax. The parentheses and brackets are both required!\n",
    "print(a)\n",
    "\n",
    "#Access elements from them just like you would a regular list\n",
    "print(a[0])\n",
    "\n",
    "#Element-wise operations are a breeze!\n",
    "c = a + b\n",
    "d = a - b\n",
    "e = a * b\n",
    "f = a / b\n",
    "\n",
    "#What are other things you would like to do with these arrays?\n",
    "\n",
    "\n",
    "#If we don't get to it, be sure to look at the notes once uploaded for Numeric ODE Integration!"
   ]
  },
  {
   "cell_type": "markdown",
   "metadata": {},
   "source": [
    "### Additional Resources\n",
    "* If you still feel VERY lost: [Code Academy](https://www.codecademy.com/learn/python)\n",
    "\n",
    "* If you want a good reference site: [Official Python Reference](https://docs.python.org/2/reference/)\n",
    "\n",
    "* If you want to learn python robustly: [Learn Python the Hard Way](https://learnpythonthehardway.org/book/)\n",
    "\n",
    "* Feel free to contact me at: **jgerace (at) nd (dot) edu**\n"
   ]
  },
  {
   "cell_type": "code",
   "execution_count": null,
   "metadata": {
    "collapsed": true
   },
   "outputs": [],
   "source": []
  }
 ],
 "metadata": {
  "anaconda-cloud": {},
  "kernelspec": {
   "display_name": "Python 3",
   "language": "python",
   "name": "python3"
  },
  "language_info": {
   "codemirror_mode": {
    "name": "ipython",
    "version": 3
   },
   "file_extension": ".py",
   "mimetype": "text/x-python",
   "name": "python",
   "nbconvert_exporter": "python",
   "pygments_lexer": "ipython3",
   "version": "3.5.2"
  }
 },
 "nbformat": 4,
 "nbformat_minor": 1
}
